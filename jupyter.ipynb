import pandas as pd
import numpy as np
from matplotlib.patches import Polygon
import matplotlib.pyplot as plt
import os
print('patata')
